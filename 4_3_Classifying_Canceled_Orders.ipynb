{
  "nbformat": 4,
  "nbformat_minor": 0,
  "metadata": {
    "colab": {
      "provenance": [],
      "include_colab_link": true
    },
    "kernelspec": {
      "name": "python3",
      "display_name": "Python 3"
    },
    "language_info": {
      "name": "python"
    }
  },
  "cells": [
    {
      "cell_type": "markdown",
      "metadata": {
        "id": "view-in-github",
        "colab_type": "text"
      },
      "source": [
        "<a href=\"https://colab.research.google.com/github/amkayhani/DSML24/blob/main/4_3_Classifying_Canceled_Orders.ipynb\" target=\"_parent\"><img src=\"https://colab.research.google.com/assets/colab-badge.svg\" alt=\"Open In Colab\"/></a>"
      ]
    },
    {
      "cell_type": "markdown",
      "source": [
        "# Data Science and Machine Learning - eBm DSDO\n",
        "\n",
        "## [Week 2] Classification Session"
      ],
      "metadata": {
        "id": "NiBh7M_Q5W8j"
      }
    },
    {
      "cell_type": "markdown",
      "source": [
        "# Analysis of the UCI Online Retail II Dataset\n",
        "\n",
        "**Business Context:**  \n",
        "An online retail business must quickly identify when an order (invoice) is cancelled. Cancellations are costly because they may indicate issues in the ordering process, inventory management, or customer dissatisfaction. In the UCI Online Retail II dataset, invoices that start with the letter \"C\" indicate canceled orders. In this project, we aggregate line‐item data to create invoice‐level features (e.g. total quantity, total amount, number of distinct items, and average unit price). We then build predictive models (KNN and SVM) to classify whether an invoice is cancelled (target = 1) or not (target = 0). Optimising these models via grid search will help us select the best hyperparameters and evaluate which model might be more suitable for the business.\n",
        "\n",
        "Download the [Online Retail II dataset here](https://archive.ics.uci.edu/dataset/502/online+retail+ii).\n"
      ],
      "metadata": {
        "id": "MxWv5kU26Bvu"
      }
    },
    {
      "cell_type": "markdown",
      "source": [
        "# Analysis with the KNN\n",
        "\n",
        "**K-Nearest Neighbors (KNN) Theory:**  \n",
        " KNN is a simple, non-parametric classification method that assigns a class label to a new data point based on the majority class among its *k* nearest neighbors in the feature space.  \n",
        " - **Distance Metric:** Typically, Euclidean distance is used.  \n",
        " - **Choice of k:** A small *k* may lead to a noisy decision boundary (overfitting), while a large *k* may smooth out class distinctions (underfitting).  \n",
        "\n",
        "\n",
        "**Project Outline:**  \n",
        " This project implementation was carried out as follows:\n",
        " - Data Loading and Understanding  \n",
        " - Data Cleaning and Preprocessing  \n",
        " - Feature Engineering and Target Creation  \n",
        " - Data Splitting and Scaling  \n",
        " - KNN and SVM Model Training and Hyperparameter Tuning (using cross-validation)  \n",
        " - Model Evaluation (including confusion matrix and detailed classification report)"
      ],
      "metadata": {
        "id": "U-6tYowV5TVy"
      }
    },
    {
      "cell_type": "code",
      "source": [
        "#!/usr/bin/env python\n",
        "# -*- coding: utf-8 -*-\n",
        "\n",
        "\"\"\"\n",
        "Project: Classification of Invoice Cancellations in an Online Retail Dataset\n",
        "Module: Data Science and Machine Learning\n",
        "Year: 24/25\n",
        "\n",
        "This project applies KNN and SVM models to the UCI Online Retail II dataset to classify whether an invoice\n",
        "represents a canceled order or not. Canceled invoices are marked with an InvoiceNo that starts with 'C'.\n",
        "We aggregate line-item transactional data into invoice-level features and then use machine learning to predict\n",
        "order cancellations—a useful task for e-business inventory management and customer service.\n",
        "\"\"\"\n",
        "# Import necessary libraries for data manipulation and visualisation\n",
        "import pandas as pd\n",
        "import numpy as np\n",
        "import matplotlib.pyplot as plt\n",
        "import seaborn as sns\n",
        "\n",
        "# Scikit-learn libraries for model building, scaling, grid search, and evaluation\n",
        "from sklearn.model_selection import train_test_split, GridSearchCV\n",
        "from sklearn.preprocessing import StandardScaler\n",
        "from sklearn.neighbors import KNeighborsClassifier\n",
        "from sklearn.svm import SVC\n",
        "from sklearn.metrics import confusion_matrix, classification_report, roc_curve, auc\n",
        "\n",
        "import warnings\n",
        "warnings.filterwarnings('ignore')"
      ],
      "metadata": {
        "id": "o1PUapYlVYtR"
      },
      "execution_count": null,
      "outputs": []
    },
    {
      "cell_type": "markdown",
      "source": [
        "## 1. Data Loading and Understanding\n",
        "\n",
        " We load the [UCI Online Retail II dataset](https://archive.ics.uci.edu/dataset/502/online+retail+ii) from an Excel file.  \n",
        " **Important notes regarding this dataset:**\n",
        " - The invoice identifier is given in the **Invoice** column.\n",
        " - The unit price is provided in the **Price** column.\n",
        "\n",
        " We'll start by inspecting the structure of the data, its shape, basic statistics, and check for missing values."
      ],
      "metadata": {
        "id": "PiJcUaNo6z_P"
      }
    },
    {
      "cell_type": "code",
      "source": [
        "# First, we need to load the dataset into Google Colab.\n",
        "# This statement allows you to select the file from your laptop and upload it to Google Cloud.\n",
        "# Please wait until you see 100% done and the play button is resumed. it might take a while to upload because the dataset is large\n",
        "\n",
        "# Import necessary Python libraries\n",
        "from google.colab import files\n",
        "\n",
        "#Upload the dataset to Google Colab\n",
        "uploaded = files.upload()"
      ],
      "metadata": {
        "colab": {
          "base_uri": "https://localhost:8080/",
          "height": 38
        },
        "id": "FnF4rSEqFQ9d",
        "outputId": "580aa626-c48b-4ab9-d0ba-955234516a1b"
      },
      "execution_count": null,
      "outputs": [
        {
          "output_type": "display_data",
          "data": {
            "text/plain": [
              "<IPython.core.display.HTML object>"
            ],
            "text/html": [
              "\n",
              "     <input type=\"file\" id=\"files-b955137c-ccd1-41ac-9495-f6c7545e2025\" name=\"files[]\" multiple disabled\n",
              "        style=\"border:none\" />\n",
              "     <output id=\"result-b955137c-ccd1-41ac-9495-f6c7545e2025\">\n",
              "      Upload widget is only available when the cell has been executed in the\n",
              "      current browser session. Please rerun this cell to enable.\n",
              "      </output>\n",
              "      <script>// Copyright 2017 Google LLC\n",
              "//\n",
              "// Licensed under the Apache License, Version 2.0 (the \"License\");\n",
              "// you may not use this file except in compliance with the License.\n",
              "// You may obtain a copy of the License at\n",
              "//\n",
              "//      http://www.apache.org/licenses/LICENSE-2.0\n",
              "//\n",
              "// Unless required by applicable law or agreed to in writing, software\n",
              "// distributed under the License is distributed on an \"AS IS\" BASIS,\n",
              "// WITHOUT WARRANTIES OR CONDITIONS OF ANY KIND, either express or implied.\n",
              "// See the License for the specific language governing permissions and\n",
              "// limitations under the License.\n",
              "\n",
              "/**\n",
              " * @fileoverview Helpers for google.colab Python module.\n",
              " */\n",
              "(function(scope) {\n",
              "function span(text, styleAttributes = {}) {\n",
              "  const element = document.createElement('span');\n",
              "  element.textContent = text;\n",
              "  for (const key of Object.keys(styleAttributes)) {\n",
              "    element.style[key] = styleAttributes[key];\n",
              "  }\n",
              "  return element;\n",
              "}\n",
              "\n",
              "// Max number of bytes which will be uploaded at a time.\n",
              "const MAX_PAYLOAD_SIZE = 100 * 1024;\n",
              "\n",
              "function _uploadFiles(inputId, outputId) {\n",
              "  const steps = uploadFilesStep(inputId, outputId);\n",
              "  const outputElement = document.getElementById(outputId);\n",
              "  // Cache steps on the outputElement to make it available for the next call\n",
              "  // to uploadFilesContinue from Python.\n",
              "  outputElement.steps = steps;\n",
              "\n",
              "  return _uploadFilesContinue(outputId);\n",
              "}\n",
              "\n",
              "// This is roughly an async generator (not supported in the browser yet),\n",
              "// where there are multiple asynchronous steps and the Python side is going\n",
              "// to poll for completion of each step.\n",
              "// This uses a Promise to block the python side on completion of each step,\n",
              "// then passes the result of the previous step as the input to the next step.\n",
              "function _uploadFilesContinue(outputId) {\n",
              "  const outputElement = document.getElementById(outputId);\n",
              "  const steps = outputElement.steps;\n",
              "\n",
              "  const next = steps.next(outputElement.lastPromiseValue);\n",
              "  return Promise.resolve(next.value.promise).then((value) => {\n",
              "    // Cache the last promise value to make it available to the next\n",
              "    // step of the generator.\n",
              "    outputElement.lastPromiseValue = value;\n",
              "    return next.value.response;\n",
              "  });\n",
              "}\n",
              "\n",
              "/**\n",
              " * Generator function which is called between each async step of the upload\n",
              " * process.\n",
              " * @param {string} inputId Element ID of the input file picker element.\n",
              " * @param {string} outputId Element ID of the output display.\n",
              " * @return {!Iterable<!Object>} Iterable of next steps.\n",
              " */\n",
              "function* uploadFilesStep(inputId, outputId) {\n",
              "  const inputElement = document.getElementById(inputId);\n",
              "  inputElement.disabled = false;\n",
              "\n",
              "  const outputElement = document.getElementById(outputId);\n",
              "  outputElement.innerHTML = '';\n",
              "\n",
              "  const pickedPromise = new Promise((resolve) => {\n",
              "    inputElement.addEventListener('change', (e) => {\n",
              "      resolve(e.target.files);\n",
              "    });\n",
              "  });\n",
              "\n",
              "  const cancel = document.createElement('button');\n",
              "  inputElement.parentElement.appendChild(cancel);\n",
              "  cancel.textContent = 'Cancel upload';\n",
              "  const cancelPromise = new Promise((resolve) => {\n",
              "    cancel.onclick = () => {\n",
              "      resolve(null);\n",
              "    };\n",
              "  });\n",
              "\n",
              "  // Wait for the user to pick the files.\n",
              "  const files = yield {\n",
              "    promise: Promise.race([pickedPromise, cancelPromise]),\n",
              "    response: {\n",
              "      action: 'starting',\n",
              "    }\n",
              "  };\n",
              "\n",
              "  cancel.remove();\n",
              "\n",
              "  // Disable the input element since further picks are not allowed.\n",
              "  inputElement.disabled = true;\n",
              "\n",
              "  if (!files) {\n",
              "    return {\n",
              "      response: {\n",
              "        action: 'complete',\n",
              "      }\n",
              "    };\n",
              "  }\n",
              "\n",
              "  for (const file of files) {\n",
              "    const li = document.createElement('li');\n",
              "    li.append(span(file.name, {fontWeight: 'bold'}));\n",
              "    li.append(span(\n",
              "        `(${file.type || 'n/a'}) - ${file.size} bytes, ` +\n",
              "        `last modified: ${\n",
              "            file.lastModifiedDate ? file.lastModifiedDate.toLocaleDateString() :\n",
              "                                    'n/a'} - `));\n",
              "    const percent = span('0% done');\n",
              "    li.appendChild(percent);\n",
              "\n",
              "    outputElement.appendChild(li);\n",
              "\n",
              "    const fileDataPromise = new Promise((resolve) => {\n",
              "      const reader = new FileReader();\n",
              "      reader.onload = (e) => {\n",
              "        resolve(e.target.result);\n",
              "      };\n",
              "      reader.readAsArrayBuffer(file);\n",
              "    });\n",
              "    // Wait for the data to be ready.\n",
              "    let fileData = yield {\n",
              "      promise: fileDataPromise,\n",
              "      response: {\n",
              "        action: 'continue',\n",
              "      }\n",
              "    };\n",
              "\n",
              "    // Use a chunked sending to avoid message size limits. See b/62115660.\n",
              "    let position = 0;\n",
              "    do {\n",
              "      const length = Math.min(fileData.byteLength - position, MAX_PAYLOAD_SIZE);\n",
              "      const chunk = new Uint8Array(fileData, position, length);\n",
              "      position += length;\n",
              "\n",
              "      const base64 = btoa(String.fromCharCode.apply(null, chunk));\n",
              "      yield {\n",
              "        response: {\n",
              "          action: 'append',\n",
              "          file: file.name,\n",
              "          data: base64,\n",
              "        },\n",
              "      };\n",
              "\n",
              "      let percentDone = fileData.byteLength === 0 ?\n",
              "          100 :\n",
              "          Math.round((position / fileData.byteLength) * 100);\n",
              "      percent.textContent = `${percentDone}% done`;\n",
              "\n",
              "    } while (position < fileData.byteLength);\n",
              "  }\n",
              "\n",
              "  // All done.\n",
              "  yield {\n",
              "    response: {\n",
              "      action: 'complete',\n",
              "    }\n",
              "  };\n",
              "}\n",
              "\n",
              "scope.google = scope.google || {};\n",
              "scope.google.colab = scope.google.colab || {};\n",
              "scope.google.colab._files = {\n",
              "  _uploadFiles,\n",
              "  _uploadFilesContinue,\n",
              "};\n",
              "})(self);\n",
              "</script> "
            ]
          },
          "metadata": {}
        }
      ]
    },
    {
      "cell_type": "code",
      "source": [
        "# ---------------------------------------------------\n",
        "# 1. Data Understanding, Cleaning, and Transformation\n",
        "# ---------------------------------------------------\n",
        "\n",
        "# Load the dataset.\n",
        "# Adjust the file name and sheet name as necessary.\n",
        "try:\n",
        "    df = pd.read_excel('online_retail_II.xlsx', sheet_name='Year 2010-2011')\n",
        "except Exception as e:\n",
        "    print(\"Error loading dataset:\", e)\n",
        "    exit()\n",
        "\n",
        "print(\"Original dataset shape:\", df.shape)\n",
        "print(df.head())"
      ],
      "metadata": {
        "colab": {
          "base_uri": "https://localhost:8080/"
        },
        "id": "VGjUgSNhVjEW",
        "outputId": "4a75f144-e9ae-4be8-b37e-c74085ba5893"
      },
      "execution_count": null,
      "outputs": [
        {
          "output_type": "stream",
          "name": "stdout",
          "text": [
            "Original dataset shape: (541910, 8)\n",
            "  Invoice StockCode                          Description  Quantity  \\\n",
            "0  536365    85123A   WHITE HANGING HEART T-LIGHT HOLDER         6   \n",
            "1  536365     71053                  WHITE METAL LANTERN         6   \n",
            "2  536365    84406B       CREAM CUPID HEARTS COAT HANGER         8   \n",
            "3  536365    84029G  KNITTED UNION FLAG HOT WATER BOTTLE         6   \n",
            "4  536365    84029E       RED WOOLLY HOTTIE WHITE HEART.         6   \n",
            "\n",
            "          InvoiceDate  Price  Customer ID         Country  \n",
            "0 2010-12-01 08:26:00   2.55      17850.0  United Kingdom  \n",
            "1 2010-12-01 08:26:00   3.39      17850.0  United Kingdom  \n",
            "2 2010-12-01 08:26:00   2.75      17850.0  United Kingdom  \n",
            "3 2010-12-01 08:26:00   3.39      17850.0  United Kingdom  \n",
            "4 2010-12-01 08:26:00   3.39      17850.0  United Kingdom  \n"
          ]
        }
      ]
    },
    {
      "cell_type": "code",
      "source": [
        "# Display basic information about the dataset\n",
        "print(\"\\nData Information:\")\n",
        "print(df.info())\n",
        "\n",
        "print(\"\\nSummary Statistics:\")\n",
        "print(df.describe())\n",
        "\n",
        "# Check for missing values. (Note: Many rows may have missing Customer ID.)\n",
        "print(\"\\nMissing values per column:\")\n",
        "print(df.isnull().sum())"
      ],
      "metadata": {
        "colab": {
          "base_uri": "https://localhost:8080/"
        },
        "id": "dJios_rxVku7",
        "outputId": "715b716a-9572-48b2-cd6b-6f1acff4cd7c"
      },
      "execution_count": null,
      "outputs": [
        {
          "output_type": "stream",
          "name": "stdout",
          "text": [
            "\n",
            "Data Information:\n",
            "<class 'pandas.core.frame.DataFrame'>\n",
            "RangeIndex: 541910 entries, 0 to 541909\n",
            "Data columns (total 8 columns):\n",
            " #   Column       Non-Null Count   Dtype         \n",
            "---  ------       --------------   -----         \n",
            " 0   Invoice      541910 non-null  object        \n",
            " 1   StockCode    541910 non-null  object        \n",
            " 2   Description  540456 non-null  object        \n",
            " 3   Quantity     541910 non-null  int64         \n",
            " 4   InvoiceDate  541910 non-null  datetime64[ns]\n",
            " 5   Price        541910 non-null  float64       \n",
            " 6   Customer ID  406830 non-null  float64       \n",
            " 7   Country      541910 non-null  object        \n",
            "dtypes: datetime64[ns](1), float64(2), int64(1), object(4)\n",
            "memory usage: 33.1+ MB\n",
            "None\n",
            "\n",
            "Summary Statistics:\n",
            "            Quantity                    InvoiceDate          Price  \\\n",
            "count  541910.000000                         541910  541910.000000   \n",
            "mean        9.552234  2011-07-04 13:35:22.342307584       4.611138   \n",
            "min    -80995.000000            2010-12-01 08:26:00  -11062.060000   \n",
            "25%         1.000000            2011-03-28 11:34:00       1.250000   \n",
            "50%         3.000000            2011-07-19 17:17:00       2.080000   \n",
            "75%        10.000000            2011-10-19 11:27:00       4.130000   \n",
            "max     80995.000000            2011-12-09 12:50:00   38970.000000   \n",
            "std       218.080957                            NaN      96.759765   \n",
            "\n",
            "         Customer ID  \n",
            "count  406830.000000  \n",
            "mean    15287.684160  \n",
            "min     12346.000000  \n",
            "25%     13953.000000  \n",
            "50%     15152.000000  \n",
            "75%     16791.000000  \n",
            "max     18287.000000  \n",
            "std      1713.603074  \n",
            "\n",
            "Missing values per column:\n",
            "Invoice             0\n",
            "StockCode           0\n",
            "Description      1454\n",
            "Quantity            0\n",
            "InvoiceDate         0\n",
            "Price               0\n",
            "Customer ID    135080\n",
            "Country             0\n",
            "dtype: int64\n"
          ]
        }
      ]
    },
    {
      "cell_type": "markdown",
      "source": [
        "## 2. Data Cleaning and Preprocessing\n",
        "\n",
        " **Data Cleaning Steps:**\n",
        " - **Remove Customer ID:** Remove this feature as it is not necessary for the analysis.\n",
        " - **Create Cancelled Feature:** Create a colum `Canceled` by adding '1' if `Invoice` starts with 'C' or '0' otherwise.\n",
        " - **Create TotalAmount Feature:** A new column is calculated as `Quantity × Price` for each transaction."
      ],
      "metadata": {
        "id": "bsT21k_L7hvq"
      }
    },
    {
      "cell_type": "code",
      "source": [
        "# Remove rows with missing Customer ID (essential for customer-level analysis).\n",
        "df = df.dropna(subset=['Customer ID'])\n",
        "\n",
        "# Create a new binary target variable 'Canceled':\n",
        "#   - 1 if Invoice starts with 'C' (indicating cancellation)\n",
        "#   - 0 otherwise.\n",
        "df['Canceled'] = df['Invoice'].apply(lambda x: 1 if str(x).startswith('C') else 0)\n",
        "\n",
        "# Convert InvoiceDate to datetime format (if not already).\n",
        "df['InvoiceDate'] = pd.to_datetime(df['InvoiceDate'])\n",
        "\n",
        "# Remove duplicate rows if any.\n",
        "df = df.drop_duplicates()\n",
        "\n",
        "# Create a new column for the monetary amount of each line.\n",
        "df['TotalAmount'] = df['Quantity'] * df['Price']"
      ],
      "metadata": {
        "id": "1msS1YfO8pt2"
      },
      "execution_count": null,
      "outputs": []
    },
    {
      "cell_type": "markdown",
      "source": [
        "## 3. Feature Engineering and Target Variable Creation\n",
        "\n",
        " **Aggregation at Invoice Level:**  \n",
        "  Since one invoice can contain multiple line items, we aggregate the data by the **Invoice** column to obtain invoice-level features. For each invoice, compute:\n",
        "   - **TotalQuantity:** Sum of Quantity\n",
        "   - **TotalAmount:** Sum of TotalAmount\n",
        "   - **NumItems:** Count of unique StockCodes\n",
        "   - **AvgUnitPrice:** TotalAmount divided by TotalQuantity (avoid division by zero)\n",
        "   - **Canceled:** Maximum value of Canceled (if any line is canceled, mark the invoice as canceled)\n",
        "   - **Country:** Taking the first available value"
      ],
      "metadata": {
        "id": "FWTOepXT8qkn"
      }
    },
    {
      "cell_type": "code",
      "execution_count": null,
      "metadata": {
        "colab": {
          "base_uri": "https://localhost:8080/"
        },
        "id": "VPzhGZ1BUDfl",
        "outputId": "24e46c20-0bc3-4447-a0a1-48a3cd04fc86"
      },
      "outputs": [
        {
          "output_type": "stream",
          "name": "stdout",
          "text": [
            "\n",
            "Aggregated (invoice-level) data shape: (22190, 7)\n",
            "  Invoice  TotalQuantity  TotalAmount  NumItems  Canceled         Country  \\\n",
            "0  536365             40       139.12         7         0  United Kingdom   \n",
            "1  536366             12        22.20         2         0  United Kingdom   \n",
            "2  536367             83       278.73        12         0  United Kingdom   \n",
            "3  536368             15        70.05         4         0  United Kingdom   \n",
            "4  536369              3        17.85         1         0  United Kingdom   \n",
            "\n",
            "   AvgUnitPrice  \n",
            "0      3.478000  \n",
            "1      1.850000  \n",
            "2      3.358193  \n",
            "3      4.670000  \n",
            "4      5.950000  \n",
            "\n",
            "Data description for modeling:\n",
            "       TotalQuantity    TotalAmount      NumItems  AvgUnitPrice      Canceled\n",
            "count   22190.000000   22190.000000  22190.000000  22190.000000  22190.000000\n",
            "mean      220.498062     373.075143     17.876611     10.823795      0.164669\n",
            "std      1169.588212    2017.764012     22.872609    292.425491      0.370890\n",
            "min    -80995.000000 -168469.600000      1.000000      0.000000      0.000000\n",
            "25%        30.000000      87.757500      3.000000      1.435851      0.000000\n",
            "50%       120.000000     239.405000     12.000000      1.982423      0.000000\n",
            "75%       253.000000     416.680000     24.000000      2.950000      0.000000\n",
            "max     80995.000000  168469.600000    541.000000  38970.000000      1.000000\n"
          ]
        }
      ],
      "source": [
        "invoice_agg = df.groupby('Invoice').agg({\n",
        "    'Quantity': 'sum',\n",
        "    'TotalAmount': 'sum',\n",
        "    'StockCode': 'nunique',\n",
        "    'Canceled': 'max',\n",
        "    'Country': 'first'\n",
        "}).reset_index()\n",
        "\n",
        "# Rename columns for clarity.\n",
        "invoice_agg.rename(columns={\n",
        "    'Quantity': 'TotalQuantity',\n",
        "    'StockCode': 'NumItems'\n",
        "}, inplace=True)\n",
        "\n",
        "# Create an average unit price column (handling division by zero).\n",
        "invoice_agg['AvgUnitPrice'] = invoice_agg.apply(\n",
        "    lambda row: row['TotalAmount'] / row['TotalQuantity'] if row['TotalQuantity'] != 0 else 0, axis=1)\n",
        "\n",
        "print(\"\\nAggregated (invoice-level) data shape:\", invoice_agg.shape)\n",
        "print(invoice_agg.head())\n",
        "\n",
        "# For our classification, select only the numeric features and the target.\n",
        "data_model = invoice_agg[['TotalQuantity', 'TotalAmount', 'NumItems', 'AvgUnitPrice', 'Canceled']]\n",
        "\n",
        "print(\"\\nData description for modeling:\")\n",
        "print(data_model.describe())"
      ]
    },
    {
      "cell_type": "code",
      "source": [
        "print(\"\\nNumber of Cancelled orders:\")\n",
        "print(data_model['Canceled'].value_counts())"
      ],
      "metadata": {
        "colab": {
          "base_uri": "https://localhost:8080/"
        },
        "id": "CJ09hS3S07sK",
        "outputId": "1ab71ad3-7b33-4e07-ac02-ea8cd29afee2"
      },
      "execution_count": null,
      "outputs": [
        {
          "output_type": "stream",
          "name": "stdout",
          "text": [
            "\n",
            "Number of Cancelled orders:\n",
            "Canceled\n",
            "0    18536\n",
            "1     3654\n",
            "Name: count, dtype: int64\n"
          ]
        }
      ]
    },
    {
      "cell_type": "code",
      "source": [
        "data_model.head()"
      ],
      "metadata": {
        "colab": {
          "base_uri": "https://localhost:8080/",
          "height": 206
        },
        "id": "l-PTGi22HGfe",
        "outputId": "3f7339f6-03ae-401e-ea6a-ad38218ef0b8"
      },
      "execution_count": null,
      "outputs": [
        {
          "output_type": "execute_result",
          "data": {
            "text/plain": [
              "   TotalQuantity  TotalAmount  NumItems  AvgUnitPrice  Canceled\n",
              "0             40       139.12         7      3.478000         0\n",
              "1             12        22.20         2      1.850000         0\n",
              "2             83       278.73        12      3.358193         0\n",
              "3             15        70.05         4      4.670000         0\n",
              "4              3        17.85         1      5.950000         0"
            ],
            "text/html": [
              "\n",
              "  <div id=\"df-50af76af-ac32-4657-a7fd-0f7dca6d39cd\" class=\"colab-df-container\">\n",
              "    <div>\n",
              "<style scoped>\n",
              "    .dataframe tbody tr th:only-of-type {\n",
              "        vertical-align: middle;\n",
              "    }\n",
              "\n",
              "    .dataframe tbody tr th {\n",
              "        vertical-align: top;\n",
              "    }\n",
              "\n",
              "    .dataframe thead th {\n",
              "        text-align: right;\n",
              "    }\n",
              "</style>\n",
              "<table border=\"1\" class=\"dataframe\">\n",
              "  <thead>\n",
              "    <tr style=\"text-align: right;\">\n",
              "      <th></th>\n",
              "      <th>TotalQuantity</th>\n",
              "      <th>TotalAmount</th>\n",
              "      <th>NumItems</th>\n",
              "      <th>AvgUnitPrice</th>\n",
              "      <th>Canceled</th>\n",
              "    </tr>\n",
              "  </thead>\n",
              "  <tbody>\n",
              "    <tr>\n",
              "      <th>0</th>\n",
              "      <td>40</td>\n",
              "      <td>139.12</td>\n",
              "      <td>7</td>\n",
              "      <td>3.478000</td>\n",
              "      <td>0</td>\n",
              "    </tr>\n",
              "    <tr>\n",
              "      <th>1</th>\n",
              "      <td>12</td>\n",
              "      <td>22.20</td>\n",
              "      <td>2</td>\n",
              "      <td>1.850000</td>\n",
              "      <td>0</td>\n",
              "    </tr>\n",
              "    <tr>\n",
              "      <th>2</th>\n",
              "      <td>83</td>\n",
              "      <td>278.73</td>\n",
              "      <td>12</td>\n",
              "      <td>3.358193</td>\n",
              "      <td>0</td>\n",
              "    </tr>\n",
              "    <tr>\n",
              "      <th>3</th>\n",
              "      <td>15</td>\n",
              "      <td>70.05</td>\n",
              "      <td>4</td>\n",
              "      <td>4.670000</td>\n",
              "      <td>0</td>\n",
              "    </tr>\n",
              "    <tr>\n",
              "      <th>4</th>\n",
              "      <td>3</td>\n",
              "      <td>17.85</td>\n",
              "      <td>1</td>\n",
              "      <td>5.950000</td>\n",
              "      <td>0</td>\n",
              "    </tr>\n",
              "  </tbody>\n",
              "</table>\n",
              "</div>\n",
              "    <div class=\"colab-df-buttons\">\n",
              "\n",
              "  <div class=\"colab-df-container\">\n",
              "    <button class=\"colab-df-convert\" onclick=\"convertToInteractive('df-50af76af-ac32-4657-a7fd-0f7dca6d39cd')\"\n",
              "            title=\"Convert this dataframe to an interactive table.\"\n",
              "            style=\"display:none;\">\n",
              "\n",
              "  <svg xmlns=\"http://www.w3.org/2000/svg\" height=\"24px\" viewBox=\"0 -960 960 960\">\n",
              "    <path d=\"M120-120v-720h720v720H120Zm60-500h600v-160H180v160Zm220 220h160v-160H400v160Zm0 220h160v-160H400v160ZM180-400h160v-160H180v160Zm440 0h160v-160H620v160ZM180-180h160v-160H180v160Zm440 0h160v-160H620v160Z\"/>\n",
              "  </svg>\n",
              "    </button>\n",
              "\n",
              "  <style>\n",
              "    .colab-df-container {\n",
              "      display:flex;\n",
              "      gap: 12px;\n",
              "    }\n",
              "\n",
              "    .colab-df-convert {\n",
              "      background-color: #E8F0FE;\n",
              "      border: none;\n",
              "      border-radius: 50%;\n",
              "      cursor: pointer;\n",
              "      display: none;\n",
              "      fill: #1967D2;\n",
              "      height: 32px;\n",
              "      padding: 0 0 0 0;\n",
              "      width: 32px;\n",
              "    }\n",
              "\n",
              "    .colab-df-convert:hover {\n",
              "      background-color: #E2EBFA;\n",
              "      box-shadow: 0px 1px 2px rgba(60, 64, 67, 0.3), 0px 1px 3px 1px rgba(60, 64, 67, 0.15);\n",
              "      fill: #174EA6;\n",
              "    }\n",
              "\n",
              "    .colab-df-buttons div {\n",
              "      margin-bottom: 4px;\n",
              "    }\n",
              "\n",
              "    [theme=dark] .colab-df-convert {\n",
              "      background-color: #3B4455;\n",
              "      fill: #D2E3FC;\n",
              "    }\n",
              "\n",
              "    [theme=dark] .colab-df-convert:hover {\n",
              "      background-color: #434B5C;\n",
              "      box-shadow: 0px 1px 3px 1px rgba(0, 0, 0, 0.15);\n",
              "      filter: drop-shadow(0px 1px 2px rgba(0, 0, 0, 0.3));\n",
              "      fill: #FFFFFF;\n",
              "    }\n",
              "  </style>\n",
              "\n",
              "    <script>\n",
              "      const buttonEl =\n",
              "        document.querySelector('#df-50af76af-ac32-4657-a7fd-0f7dca6d39cd button.colab-df-convert');\n",
              "      buttonEl.style.display =\n",
              "        google.colab.kernel.accessAllowed ? 'block' : 'none';\n",
              "\n",
              "      async function convertToInteractive(key) {\n",
              "        const element = document.querySelector('#df-50af76af-ac32-4657-a7fd-0f7dca6d39cd');\n",
              "        const dataTable =\n",
              "          await google.colab.kernel.invokeFunction('convertToInteractive',\n",
              "                                                    [key], {});\n",
              "        if (!dataTable) return;\n",
              "\n",
              "        const docLinkHtml = 'Like what you see? Visit the ' +\n",
              "          '<a target=\"_blank\" href=https://colab.research.google.com/notebooks/data_table.ipynb>data table notebook</a>'\n",
              "          + ' to learn more about interactive tables.';\n",
              "        element.innerHTML = '';\n",
              "        dataTable['output_type'] = 'display_data';\n",
              "        await google.colab.output.renderOutput(dataTable, element);\n",
              "        const docLink = document.createElement('div');\n",
              "        docLink.innerHTML = docLinkHtml;\n",
              "        element.appendChild(docLink);\n",
              "      }\n",
              "    </script>\n",
              "  </div>\n",
              "\n",
              "\n",
              "<div id=\"df-39282132-1e6d-457b-9d01-9b6e03822a52\">\n",
              "  <button class=\"colab-df-quickchart\" onclick=\"quickchart('df-39282132-1e6d-457b-9d01-9b6e03822a52')\"\n",
              "            title=\"Suggest charts\"\n",
              "            style=\"display:none;\">\n",
              "\n",
              "<svg xmlns=\"http://www.w3.org/2000/svg\" height=\"24px\"viewBox=\"0 0 24 24\"\n",
              "     width=\"24px\">\n",
              "    <g>\n",
              "        <path d=\"M19 3H5c-1.1 0-2 .9-2 2v14c0 1.1.9 2 2 2h14c1.1 0 2-.9 2-2V5c0-1.1-.9-2-2-2zM9 17H7v-7h2v7zm4 0h-2V7h2v10zm4 0h-2v-4h2v4z\"/>\n",
              "    </g>\n",
              "</svg>\n",
              "  </button>\n",
              "\n",
              "<style>\n",
              "  .colab-df-quickchart {\n",
              "      --bg-color: #E8F0FE;\n",
              "      --fill-color: #1967D2;\n",
              "      --hover-bg-color: #E2EBFA;\n",
              "      --hover-fill-color: #174EA6;\n",
              "      --disabled-fill-color: #AAA;\n",
              "      --disabled-bg-color: #DDD;\n",
              "  }\n",
              "\n",
              "  [theme=dark] .colab-df-quickchart {\n",
              "      --bg-color: #3B4455;\n",
              "      --fill-color: #D2E3FC;\n",
              "      --hover-bg-color: #434B5C;\n",
              "      --hover-fill-color: #FFFFFF;\n",
              "      --disabled-bg-color: #3B4455;\n",
              "      --disabled-fill-color: #666;\n",
              "  }\n",
              "\n",
              "  .colab-df-quickchart {\n",
              "    background-color: var(--bg-color);\n",
              "    border: none;\n",
              "    border-radius: 50%;\n",
              "    cursor: pointer;\n",
              "    display: none;\n",
              "    fill: var(--fill-color);\n",
              "    height: 32px;\n",
              "    padding: 0;\n",
              "    width: 32px;\n",
              "  }\n",
              "\n",
              "  .colab-df-quickchart:hover {\n",
              "    background-color: var(--hover-bg-color);\n",
              "    box-shadow: 0 1px 2px rgba(60, 64, 67, 0.3), 0 1px 3px 1px rgba(60, 64, 67, 0.15);\n",
              "    fill: var(--button-hover-fill-color);\n",
              "  }\n",
              "\n",
              "  .colab-df-quickchart-complete:disabled,\n",
              "  .colab-df-quickchart-complete:disabled:hover {\n",
              "    background-color: var(--disabled-bg-color);\n",
              "    fill: var(--disabled-fill-color);\n",
              "    box-shadow: none;\n",
              "  }\n",
              "\n",
              "  .colab-df-spinner {\n",
              "    border: 2px solid var(--fill-color);\n",
              "    border-color: transparent;\n",
              "    border-bottom-color: var(--fill-color);\n",
              "    animation:\n",
              "      spin 1s steps(1) infinite;\n",
              "  }\n",
              "\n",
              "  @keyframes spin {\n",
              "    0% {\n",
              "      border-color: transparent;\n",
              "      border-bottom-color: var(--fill-color);\n",
              "      border-left-color: var(--fill-color);\n",
              "    }\n",
              "    20% {\n",
              "      border-color: transparent;\n",
              "      border-left-color: var(--fill-color);\n",
              "      border-top-color: var(--fill-color);\n",
              "    }\n",
              "    30% {\n",
              "      border-color: transparent;\n",
              "      border-left-color: var(--fill-color);\n",
              "      border-top-color: var(--fill-color);\n",
              "      border-right-color: var(--fill-color);\n",
              "    }\n",
              "    40% {\n",
              "      border-color: transparent;\n",
              "      border-right-color: var(--fill-color);\n",
              "      border-top-color: var(--fill-color);\n",
              "    }\n",
              "    60% {\n",
              "      border-color: transparent;\n",
              "      border-right-color: var(--fill-color);\n",
              "    }\n",
              "    80% {\n",
              "      border-color: transparent;\n",
              "      border-right-color: var(--fill-color);\n",
              "      border-bottom-color: var(--fill-color);\n",
              "    }\n",
              "    90% {\n",
              "      border-color: transparent;\n",
              "      border-bottom-color: var(--fill-color);\n",
              "    }\n",
              "  }\n",
              "</style>\n",
              "\n",
              "  <script>\n",
              "    async function quickchart(key) {\n",
              "      const quickchartButtonEl =\n",
              "        document.querySelector('#' + key + ' button');\n",
              "      quickchartButtonEl.disabled = true;  // To prevent multiple clicks.\n",
              "      quickchartButtonEl.classList.add('colab-df-spinner');\n",
              "      try {\n",
              "        const charts = await google.colab.kernel.invokeFunction(\n",
              "            'suggestCharts', [key], {});\n",
              "      } catch (error) {\n",
              "        console.error('Error during call to suggestCharts:', error);\n",
              "      }\n",
              "      quickchartButtonEl.classList.remove('colab-df-spinner');\n",
              "      quickchartButtonEl.classList.add('colab-df-quickchart-complete');\n",
              "    }\n",
              "    (() => {\n",
              "      let quickchartButtonEl =\n",
              "        document.querySelector('#df-39282132-1e6d-457b-9d01-9b6e03822a52 button');\n",
              "      quickchartButtonEl.style.display =\n",
              "        google.colab.kernel.accessAllowed ? 'block' : 'none';\n",
              "    })();\n",
              "  </script>\n",
              "</div>\n",
              "\n",
              "    </div>\n",
              "  </div>\n"
            ],
            "application/vnd.google.colaboratory.intrinsic+json": {
              "type": "dataframe",
              "variable_name": "data_model",
              "summary": "{\n  \"name\": \"data_model\",\n  \"rows\": 22190,\n  \"fields\": [\n    {\n      \"column\": \"TotalQuantity\",\n      \"properties\": {\n        \"dtype\": \"number\",\n        \"std\": 1169,\n        \"min\": -80995,\n        \"max\": 80995,\n        \"num_unique_values\": 1602,\n        \"samples\": [\n          706,\n          4628,\n          79\n        ],\n        \"semantic_type\": \"\",\n        \"description\": \"\"\n      }\n    },\n    {\n      \"column\": \"TotalAmount\",\n      \"properties\": {\n        \"dtype\": \"number\",\n        \"std\": 2017.7640117227445,\n        \"min\": -168469.6,\n        \"max\": 168469.6,\n        \"num_unique_values\": 16970,\n        \"samples\": [\n          87.7,\n          183.64,\n          324.45\n        ],\n        \"semantic_type\": \"\",\n        \"description\": \"\"\n      }\n    },\n    {\n      \"column\": \"NumItems\",\n      \"properties\": {\n        \"dtype\": \"number\",\n        \"std\": 22,\n        \"min\": 1,\n        \"max\": 541,\n        \"num_unique_values\": 190,\n        \"samples\": [\n          135,\n          541,\n          107\n        ],\n        \"semantic_type\": \"\",\n        \"description\": \"\"\n      }\n    },\n    {\n      \"column\": \"AvgUnitPrice\",\n      \"properties\": {\n        \"dtype\": \"number\",\n        \"std\": 292.42549091263186,\n        \"min\": 0.0,\n        \"max\": 38970.0,\n        \"num_unique_values\": 17484,\n        \"samples\": [\n          1.4898795180722892,\n          2.328358208955224,\n          1.8052000000000001\n        ],\n        \"semantic_type\": \"\",\n        \"description\": \"\"\n      }\n    },\n    {\n      \"column\": \"Canceled\",\n      \"properties\": {\n        \"dtype\": \"number\",\n        \"std\": 0,\n        \"min\": 0,\n        \"max\": 1,\n        \"num_unique_values\": 2,\n        \"samples\": [\n          1,\n          0\n        ],\n        \"semantic_type\": \"\",\n        \"description\": \"\"\n      }\n    }\n  ]\n}"
            }
          },
          "metadata": {},
          "execution_count": 8
        }
      ]
    },
    {
      "cell_type": "markdown",
      "source": [
        "## 4. Data Splitting and Feature Scaling\n",
        "\n",
        "**Feature Selection:**  \n",
        " We select the following predictors: 'TotalQuantity', 'TotalAmount', 'NumItems', 'AvgUnitPrice'\n",
        " - **TotalQuantity**\n",
        " - **TotalAmount**\n",
        " - **NumItems**\n",
        " - **AvgUnitPrice**\n",
        " - **Country** (a categorical variable, which will be one-hot encoded)\n",
        "\n",
        "**Train-Test Split:**  \n",
        " The data is split into training and testing sets (80% training, 20% testing) with stratification to preserve the class distribution.\n",
        "\n",
        "**Scaling:**  \n",
        " Since KNN is a distance-based algorithm, we apply standard scaling (mean=0, variance=1) to the features."
      ],
      "metadata": {
        "id": "CA8WLx2z9rPr"
      }
    },
    {
      "cell_type": "code",
      "source": [
        "# ---------------------------------------------------\n",
        "# 2. Train-Test Split\n",
        "# ---------------------------------------------------\n",
        "\n",
        "# Separate features and target.\n",
        "X = data_model.drop('Canceled', axis=1)\n",
        "y = data_model['Canceled']\n",
        "\n",
        "# Split the data (80% train, 20% test) with stratification to preserve class proportions.\n",
        "X_train, X_test, y_train, y_test = train_test_split(X, y, test_size=0.2, random_state=42, stratify=y)"
      ],
      "metadata": {
        "id": "LzKqVOUaU75D"
      },
      "execution_count": null,
      "outputs": []
    },
    {
      "cell_type": "markdown",
      "source": [
        "## 5. Creating the KNN Model\n",
        "\n",
        "**Scaling:**  \n",
        " Since KNN is a distance-based algorithm, we apply standard scaling (mean=0, variance=1) to the features."
      ],
      "metadata": {
        "id": "WAdyMtKr-QcP"
      }
    },
    {
      "cell_type": "code",
      "source": [
        "# ---------------------------------------------------\n",
        "# 3. K-Nearest Neighbors (KNN) Model\n",
        "# ---------------------------------------------------\n",
        "\n",
        "# For clarity, we copy the modeling DataFrame to \"data_knn\" (not strictly necessary, but follows the requirement).\n",
        "data_knn = data_model.copy()\n",
        "\n",
        "# Step 1: Data Scaling for KNN.\n",
        "scaler_knn = StandardScaler()\n",
        "X_train_knn_scaled = scaler_knn.fit_transform(X_train)\n",
        "X_test_knn_scaled = scaler_knn.transform(X_test)\n",
        "\n",
        "# Step 2: Define the KNN classifier.\n",
        "knn = KNeighborsClassifier()"
      ],
      "metadata": {
        "id": "ucLpbsL4U5Xr"
      },
      "execution_count": null,
      "outputs": []
    },
    {
      "cell_type": "markdown",
      "source": [
        "## 6. KNN Model Training and Hyperparameter Tuning\n",
        "\n",
        "**Hyperparameter Tuning:**  \n",
        " We use GridSearchCV with 5-fold cross-validation to determine the optimal number of neighbours (*k*) by testing values from 3 to 15. We also test different weights and metrics.\n"
      ],
      "metadata": {
        "id": "rc8fdf3G-eyK"
      }
    },
    {
      "cell_type": "code",
      "source": [
        "# Define a hyperparameter grid for KNN.\n",
        "param_grid_knn = {\n",
        "    'n_neighbors': list(range(3, 16)),\n",
        "    'weights': ['uniform', 'distance'],\n",
        "    'metric': ['euclidean', 'manhattan']\n",
        "}\n",
        "\n",
        "# Set up GridSearchCV for hyperparameter tuning.\n",
        "grid_knn = GridSearchCV(knn, param_grid=param_grid_knn,\n",
        "                        cv=5, scoring='accuracy', n_jobs=-1)\n",
        "grid_knn.fit(X_train_knn_scaled, y_train)\n",
        "\n",
        "print(\"\\n--- KNN Results ---\")\n",
        "print(\"Best KNN parameters:\", grid_knn.best_params_)\n",
        "print(\"Best cross-validation accuracy for KNN: {:.4f}\".format(grid_knn.best_score_))"
      ],
      "metadata": {
        "colab": {
          "base_uri": "https://localhost:8080/"
        },
        "id": "oG7h0hP-U2NV",
        "outputId": "3feb8847-6958-4c15-cd2d-5c72283a1c41"
      },
      "execution_count": null,
      "outputs": [
        {
          "output_type": "stream",
          "name": "stdout",
          "text": [
            "\n",
            "--- KNN Results ---\n",
            "Best KNN parameters: {'metric': 'euclidean', 'n_neighbors': 3, 'weights': 'distance'}\n",
            "Best cross-validation accuracy for KNN: 0.9997\n"
          ]
        }
      ]
    },
    {
      "cell_type": "markdown",
      "source": [
        "The GridSearchCV objects (i.e. grid_knn) already store the final, best models in their `best_estimator_` attribute. This means that once the grid search is complete, you can immediately use `grid_knn.best_estimator_` as your final tuned models.\n",
        "\n",
        "However, if you prefer to explicitly create new model instances using the best parameters (for example, to retrain on a different split or for code clarity), you can extract the best parameters and instantiate fresh models. Here’s how you can do that:"
      ],
      "metadata": {
        "id": "vp-bgZrCgFoN"
      }
    },
    {
      "cell_type": "code",
      "source": [
        "# After performing GridSearchCV for KNN:\n",
        "print(\"Best KNN parameters:\", grid_knn.best_params_)\n",
        "## Option 1: Use the already-fitted best estimator\n",
        "final_knn_model = grid_knn.best_estimator_\n",
        "\n",
        "## Option 2: Explicitly create and refit the final KNN model using the best parameters\n",
        "#best_knn_params = grid_knn.best_params_\n",
        "#final_knn_model_explicit = KNeighborsClassifier(**best_knn_params)\n",
        "#final_knn_model_explicit.fit(X_train_knn_scaled, y_train)\n",
        "\n",
        "# Evaluate the final explicit KNN model on the test set.\n",
        "y_pred_final_knn = final_knn_model.predict(X_test_knn_scaled) # y_pred_final_knn = final_knn_model_explicit.predict(X_test_knn_scaled)\n",
        "print(\"\\nFinal KNN Model (explicit) - Classification Report:\")\n",
        "print(classification_report(y_test, y_pred_final_knn))"
      ],
      "metadata": {
        "colab": {
          "base_uri": "https://localhost:8080/"
        },
        "id": "ayKLQb8rfOwM",
        "outputId": "70caa0ad-238b-4772-9c06-d0065fcd4260"
      },
      "execution_count": null,
      "outputs": [
        {
          "output_type": "stream",
          "name": "stdout",
          "text": [
            "Best KNN parameters: {'metric': 'euclidean', 'n_neighbors': 3, 'weights': 'distance'}\n",
            "\n",
            "Final KNN Model (explicit) - Classification Report:\n",
            "              precision    recall  f1-score   support\n",
            "\n",
            "           0       1.00      1.00      1.00      3707\n",
            "           1       1.00      1.00      1.00       731\n",
            "\n",
            "    accuracy                           1.00      4438\n",
            "   macro avg       1.00      1.00      1.00      4438\n",
            "weighted avg       1.00      1.00      1.00      4438\n",
            "\n"
          ]
        }
      ]
    },
    {
      "cell_type": "markdown",
      "source": [
        "## 7. KNN Model Evaluation\n",
        "\n",
        " We now evaluate the performance of our KNN classifier on the test set using:\n",
        "\n",
        " - **Confusion Matrix:**  \n",
        "   A table that shows the true versus predicted class counts.\n",
        "\n",
        " - **Classification Report:**  \n",
        "   Includes:\n",
        "   - **Precision:** Ratio of correctly predicted positive observations to the total predicted positives.  \n",
        "     *Precision = TP / (TP + FP)*  \n",
        "   - **Recall (Sensitivity):** Ratio of correctly predicted positive observations to all actual positives.  \n",
        "     *Recall = TP / (TP + FN)*  \n",
        "   - **F1-Score:** The weighted average of Precision and Recall.  \n",
        "   - **Support:** The number of actual occurrences of each class in the test set."
      ],
      "metadata": {
        "id": "QDl7emkzA16j"
      }
    },
    {
      "cell_type": "code",
      "source": [
        "# Evaluate the best KNN model on the test set.\n",
        "y_pred_knn = grid_knn.predict(X_test_knn_scaled)\n",
        "cm_knn = confusion_matrix(y_test, y_pred_knn)\n",
        "print(\"\\nClassification Report for KNN:\")\n",
        "print(classification_report(y_test, y_pred_knn))\n",
        "\n",
        "print(\"\\nConfusion Matrix for KNN:\")\n",
        "print(cm_knn)\n",
        "# Plot the confusion matrix using a heatmap\n",
        "plt.figure(figsize=(6, 4))\n",
        "sns.heatmap(cm_knn, annot=True, fmt='d', cmap='Blues', cbar=False)\n",
        "plt.title(\"Confusion Matrix\")\n",
        "plt.xlabel(\"Predicted Label\")\n",
        "plt.ylabel(\"True Label\")\n",
        "plt.show()"
      ],
      "metadata": {
        "colab": {
          "base_uri": "https://localhost:8080/",
          "height": 682
        },
        "id": "ES-Wmj7yUsE8",
        "outputId": "9ffaca8d-7752-43c2-bf46-28899aafd0fe"
      },
      "execution_count": null,
      "outputs": [
        {
          "output_type": "stream",
          "name": "stdout",
          "text": [
            "\n",
            "Classification Report for KNN:\n",
            "              precision    recall  f1-score   support\n",
            "\n",
            "           0       1.00      1.00      1.00      3707\n",
            "           1       1.00      1.00      1.00       731\n",
            "\n",
            "    accuracy                           1.00      4438\n",
            "   macro avg       1.00      1.00      1.00      4438\n",
            "weighted avg       1.00      1.00      1.00      4438\n",
            "\n",
            "\n",
            "Confusion Matrix for KNN:\n",
            "[[3707    0]\n",
            " [   1  730]]\n"
          ]
        },
        {
          "output_type": "display_data",
          "data": {
            "text/plain": [
              "<Figure size 600x400 with 1 Axes>"
            ],
            "image/png": "[encoded data removed]"
          },
          "metadata": {}
        }
      ]
    },
    {
      "cell_type": "markdown",
      "source": [
        "## 8. Explanation of KNN Evaluation Metrics\n",
        "\n",
        "The confusion matrix represents the performance of the KNN classifier on the test data for a binary classification problem where:\n",
        "\n",
        "- **Class 0:** Invoice is *not canceled*\n",
        "- **Class 1:** Invoice is *canceled*\n",
        "\n",
        "### Breaking Down the Matrix\n",
        "\n",
        "- **True Negatives (TN):**  \n",
        "  - **Value:** 3707  \n",
        "  - **Interpretation:** Out of all the invoices that were truly not canceled, 3707 were correctly predicted as not canceled.\n",
        "\n",
        "- **False Positives (FP):**  \n",
        "  - **Value:** 0  \n",
        "  - **Interpretation:** There were no instances where a non-canceled invoice was incorrectly flagged as canceled. This is crucial for avoiding unnecessary investigations or corrective actions on orders that are actually valid.\n",
        "\n",
        "- **False Negatives (FN):**  \n",
        "  - **Value:** 1  \n",
        "  - **Interpretation:** Only 1 canceled invoice was mistakenly classified as not canceled. This low error is important because missing a cancellation could result in the business failing to address issues promptly.\n",
        "\n",
        "- **True Positives (TP):**  \n",
        "  - **Value:** 730  \n",
        "  - **Interpretation:** Out of the invoices that were actually canceled, 730 were correctly identified as canceled.\n",
        "\n",
        "### Performance Metrics Derived\n",
        "\n",
        "- **Accuracy**\n",
        "  \n",
        "  $= \\frac{TN + TP}{TN + FP + FN + TP} = \\frac{3707 + 730}{3707 + 0 + 1 + 730} \\approx 99.98\\%$\n",
        "  \n",
        "\n",
        "- **Sensitivity (Recall) for Canceled Invoices**\n",
        "\n",
        " $= \\frac{TP}{TP + FN} = \\frac{730}{730 + 1} \\approx 99.86\\%$\n",
        "\n",
        "- **Specificity for Non-Canceled Invoices**  \n",
        "  \n",
        "  $= \\frac{TN}{TN + FP} = \\frac{3707}{3707 + 0} = 100\\%$\n",
        "\n",
        "The results indicate that the KNN model performs almost perfectly, with extremely high accuracy and nearly no false positives or negatives.\n",
        "\n",
        "---\n",
        "\n",
        "## Business Insights from the KNN Confusion Matrix\n",
        "\n",
        "Given our case scenario—classifying invoices to determine if they are canceled (which signals potential issues like customer dissatisfaction or process inefficiencies)—the confusion matrix provides several key business insights:\n",
        "\n",
        "1. **Reliable Cancellation Detection:**  \n",
        "   - With 730 out of 731 canceled invoices correctly identified, the model provides high confidence in detecting cancellations. This means the business can use the model to reliably flag orders that require further attention.\n",
        "\n",
        "2. **Minimized Disruption:**  \n",
        "   - **No False Positives:** Since no valid (non-canceled) invoices are misclassified, the system avoids triggering unnecessary investigations. This helps prevent wastage of resources and ensures that only problematic orders are flagged.\n",
        "  \n",
        "3. **Operational Efficiency:**  \n",
        "   - **Low False Negative Rate:** With only 1 false negative, nearly all cancellations are captured. This minimizes the risk of overlooking problematic orders, allowing the business to address issues such as inventory mismatches or delivery problems swiftly.\n",
        "  \n",
        "4. **Proactive Issue Resolution:**  \n",
        "   - **Early Warning System:** The near-perfect classification allows the business to set up real-time monitoring systems. When an invoice is flagged as canceled, the relevant department (e.g., customer service or logistics) can quickly investigate and resolve the underlying issue.\n",
        "  \n",
        "5. **Data-Driven Process Improvements:**  \n",
        "   - **Insights into Cancellation Patterns:** By analyzing the invoices flagged by the model, the business can identify trends or recurring issues that lead to cancellations. This can guide efforts to improve order processing, customer communications, or inventory management.\n",
        "  \n",
        "6. **Resource Allocation:**  \n",
        "   - **Efficient Deployment of Teams:** The high accuracy of the model ensures that support teams can focus on truly problematic orders, rather than being bogged down by false alarms. This optimized allocation of human resources can lead to better customer satisfaction and cost savings.\n",
        "\n",
        "---\n",
        "\n",
        "## Conclusion\n",
        "\n",
        "The KNN confusion matrix demonstrates exceptional performance in classifying canceled versus non-canceled invoices. For the business, this translates to:\n",
        "- **High reliability** in detecting canceled orders.\n",
        "- **Efficient operations** due to minimal false positives and negatives.\n",
        "- **Enhanced decision-making** with data-driven insights into order cancellations.\n",
        "- **Optimized resource allocation** and proactive customer service interventions.\n",
        "\n",
        "By integrating this model into their operational systems, the business can automate the detection of cancellations, promptly address underlying issues, and continuously improve the order management process—ultimately enhancing both customer satisfaction and operational efficiency."
      ],
      "metadata": {
        "id": "fMktUDNaA6VB"
      }
    },
    {
      "cell_type": "markdown",
      "source": [
        "# Analysis with the SVM\n",
        "\n",
        "## Introduction to Support Vector Machines (SVM)\n",
        "\n",
        "Support Vector Machines (SVM) are a class of supervised learning algorithms used for classification (and regression) tasks. The main idea behind SVM is to find the optimal hyperplane that best separates the classes in the feature space. Here are the key concepts:\n",
        "\n",
        "- **Margin:**  \n",
        "  SVM seeks to maximize the margin—the distance between the hyperplane and the nearest data points (called **support vectors**) from each class. A larger margin leads to better generalization on unseen data.\n",
        "\n",
        "- **Support Vectors:**  \n",
        "  The data points that are closest to the hyperplane are critical in defining the position and orientation of the hyperplane. These are the support vectors.\n",
        "\n",
        "- **Kernel Trick:**  \n",
        "  In cases where the data is not linearly separable, SVM can use kernel functions to map the data into a higher-dimensional space where a linear separator may exist. Common kernels include:\n",
        "  - **Linear Kernel:** For linearly separable data.\n",
        "  - **Radial Basis Function (RBF) Kernel:** For non-linear decision boundaries.\n",
        "  - **Polynomial Kernel:** For data with polynomial relationships.\n",
        "\n",
        "- **Regularization Parameter (C):**  \n",
        "  The parameter `C` controls the trade-off between maximizing the margin and minimizing the classification error. A small `C` allows for a wider margin with more misclassifications, while a large `C` forces the model to classify all training examples correctly, which can lead to overfitting.\n",
        "\n",
        "- **Gamma (γ):**  \n",
        "  In kernels like RBF, `gamma` defines how far the influence of a single training example reaches. A small gamma means a large radius of influence, leading to smoother decision boundaries; a high gamma can lead to more complex boundaries.\n",
        "\n",
        "In this project, we use an SVM to classify invoices as \"cancelled\" or not based on aggregated features from the dataset."
      ],
      "metadata": {
        "id": "_vBTZDE8BCEP"
      }
    },
    {
      "cell_type": "code",
      "source": [
        "# ---------------------------------------------------\n",
        "# 4. Support Vector Machine (SVM) Model\n",
        "# ---------------------------------------------------\n",
        "\n",
        "# Similarly, create a copy for SVM modeling.\n",
        "data_svm = data_model.copy()\n",
        "\n",
        "# Step 1: Scale the data for SVM.\n",
        "scaler_svm = StandardScaler()\n",
        "X_train_svm_scaled = scaler_svm.fit_transform(X_train)\n",
        "X_test_svm_scaled = scaler_svm.transform(X_test)\n",
        "\n",
        "# Step 2: Define the SVM classifier.\n",
        "svm = SVC()"
      ],
      "metadata": {
        "id": "anUo7xJDUYTY"
      },
      "execution_count": null,
      "outputs": []
    },
    {
      "cell_type": "markdown",
      "source": [
        "## 9. Hyperparameter Optimisation for SVM and Model training\n",
        "\n",
        "**Hyperparameter Optimization Explanation:**\n",
        "\n",
        "SVM performance depends heavily on the choice of hyperparameters. For an SVM, three key hyperparameters are:\n",
        "- **C (Regularization Parameter):**  \n",
        "  Controls the trade-off between achieving a low training error and a low testing error (i.e., model generalization).  \n",
        "- **Gamma (γ):**  \n",
        "  Determines the influence of a single training example. A small gamma implies a larger influence (smoother decision boundary), while a large gamma leads to a more complex decision boundary.\n",
        "- **Kernel (γ):**  \n",
        "  The kernel function transforms your data into a higher-dimensional space to make it easier to separate.\n",
        "\n",
        "We use `GridSearchCV` with 5-fold cross-validation to search for the optimal combination of `C`, `gamma` and `kernel` This approach helps us to select the best hyperparameters based on the training data without overfitting. Using the best hyperparameters obtained from GridSearchCV, we train the final SVM model on the training set."
      ],
      "metadata": {
        "id": "9mU1N4JkBYoe"
      }
    },
    {
      "cell_type": "code",
      "source": [
        "# Define a hyperparameter grid for SVM.\n",
        "param_grid_svm = {\n",
        "    'C': [0.1, 1, 10, 100],\n",
        "    'kernel': ['linear', 'rbf', 'poly'],\n",
        "    'gamma': ['scale', 'auto']\n",
        "}\n",
        "\n",
        "grid_svm = GridSearchCV(svm, param_grid=param_grid_svm,\n",
        "                        cv=5, scoring='accuracy', n_jobs=-1)\n",
        "grid_svm.fit(X_train_svm_scaled, y_train)\n",
        "\n",
        "print(\"\\n--- SVM Results ---\")\n",
        "print(\"Best SVM parameters:\", grid_svm.best_params_)\n",
        "print(\"Best cross-validation accuracy for SVM: {:.4f}\".format(grid_svm.best_score_))"
      ],
      "metadata": {
        "id": "HGxP6EmxBcyI",
        "colab": {
          "base_uri": "https://localhost:8080/"
        },
        "outputId": "86896101-d5d7-4c87-961b-70d3e48f7e4e"
      },
      "execution_count": null,
      "outputs": [
        {
          "output_type": "stream",
          "name": "stdout",
          "text": [
            "\n",
            "--- SVM Results ---\n",
            "Best SVM parameters: {'C': 100, 'gamma': 'scale', 'kernel': 'linear'}\n",
            "Best cross-validation accuracy for SVM: 0.9946\n"
          ]
        }
      ]
    },
    {
      "cell_type": "markdown",
      "source": [
        "The GridSearchCV objects (i.e. grid_svm) already store the final, best models in their `best_estimator_` attribute. This means that once the grid search is complete, you can immediately use `grid_svm.best_estimator_` as your final tuned models.\n",
        "\n",
        "However, if you prefer to explicitly create new model instances using the best parameters (for example, to retrain on a different split or for code clarity), you can extract the best parameters and instantiate fresh models. Here’s how you can do that:"
      ],
      "metadata": {
        "id": "k_XyazRICB20"
      }
    },
    {
      "cell_type": "code",
      "source": [
        "# Option 1: Use the already-fitted best estimator\n",
        "final_svm_model = grid_svm.best_estimator_\n",
        "\n",
        "# Option 2: Explicitly create and refit the final SVM model using the best parameters\n",
        "#best_svm_params = grid_svm.best_params_\n",
        "#final_svm_model_explicit = SVC(**best_svm_params)\n",
        "#final_svm_model_explicit.fit(X_train_svm_scaled, y_train)\n",
        "\n",
        "# Evaluate the final explicit SVM model on the test set.\n",
        "y_pred_final_svm = final_svm_model.predict(X_test_svm_scaled)\n",
        "print(\"\\nFinal SVM Model (explicit) - Classification Report:\")\n",
        "print(classification_report(y_test, y_pred_final_svm))"
      ],
      "metadata": {
        "id": "G4QwcZW2Cmgj",
        "colab": {
          "base_uri": "https://localhost:8080/"
        },
        "outputId": "6316d4e9-8a01-46b3-9d81-6752c60df5e4"
      },
      "execution_count": null,
      "outputs": [
        {
          "output_type": "stream",
          "name": "stdout",
          "text": [
            "\n",
            "Final SVM Model (explicit) - Classification Report:\n",
            "              precision    recall  f1-score   support\n",
            "\n",
            "           0       1.00      0.99      1.00      3707\n",
            "           1       0.97      1.00      0.99       731\n",
            "\n",
            "    accuracy                           1.00      4438\n",
            "   macro avg       0.99      1.00      0.99      4438\n",
            "weighted avg       1.00      1.00      1.00      4438\n",
            "\n"
          ]
        }
      ]
    },
    {
      "cell_type": "markdown",
      "source": [
        "## 10. SVM Model Evaluation\n",
        "\n",
        "We evaluate the performance of the SVM model on the test set using:\n",
        "- **Confusion Matrix:**  \n",
        "  A table showing the counts of true positives, true negatives, false positives, and false negatives.\n",
        "- **Classification Report:**  \n",
        "  Provides precision, recall, f1-score, and support for each class.\n",
        "  \n",
        "**Evaluation Metrics Explained:**\n",
        "- **Precision:**  \n",
        "  The ratio of correctly predicted positive observations to the total predicted positives. A high precision indicates a low false-positive rate.\n",
        "- **Recall (Sensitivity):**  \n",
        "  The ratio of correctly predicted positive observations to all actual positives. A high recall indicates a low false-negative rate.\n",
        "- **F1-Score:**  \n",
        "  The harmonic mean of precision and recall. It provides a balance between the two, especially useful when the class distribution is imbalanced.\n",
        "- **Support:**  \n",
        "  The number of actual occurrences of each class in the test set."
      ],
      "metadata": {
        "id": "gxjFc8jMCy3I"
      }
    },
    {
      "cell_type": "code",
      "source": [
        "# Evaluate the best SVM model on the test set.\n",
        "y_pred_svm = grid_svm.predict(X_test_svm_scaled)\n",
        "cm_svm = confusion_matrix(y_test, y_pred_svm)\n",
        "\n",
        "print(\"\\nClassification Report for SVM:\")\n",
        "print(classification_report(y_test, y_pred_svm))\n",
        "\n",
        "\n",
        "print(\"Confusion Matrix for SVM:\\n\", cm_svm)\n",
        "\n",
        "# Plot the confusion matrix using a heatmap\n",
        "plt.figure(figsize=(6, 4))\n",
        "sns.heatmap(cm_svm, annot=True, fmt='d', cmap='Blues', cbar=False)\n",
        "plt.title(\"Confusion Matrix\")\n",
        "plt.xlabel(\"Predicted Label\")\n",
        "plt.ylabel(\"True Label\")\n",
        "plt.show()"
      ],
      "metadata": {
        "colab": {
          "base_uri": "https://localhost:8080/",
          "height": 664
        },
        "id": "lrVMWCV7UeG4",
        "outputId": "a7757c98-5a22-4072-8928-f1e2fa858db0"
      },
      "execution_count": null,
      "outputs": [
        {
          "output_type": "stream",
          "name": "stdout",
          "text": [
            "\n",
            "Classification Report for SVM:\n",
            "              precision    recall  f1-score   support\n",
            "\n",
            "           0       1.00      0.99      1.00      3707\n",
            "           1       0.97      1.00      0.99       731\n",
            "\n",
            "    accuracy                           1.00      4438\n",
            "   macro avg       0.99      1.00      0.99      4438\n",
            "weighted avg       1.00      1.00      1.00      4438\n",
            "\n",
            "Confusion Matrix for SVM:\n",
            " [[3686   21]\n",
            " [   0  731]]\n"
          ]
        },
        {
          "output_type": "display_data",
          "data": {
            "text/plain": [
              "<Figure size 600x400 with 1 Axes>"
            ],
            "image/png": "[encoded data removed]"
          },
          "metadata": {}
        }
      ]
    },
    {
      "cell_type": "markdown",
      "source": [
        "# Comparison of KNN and SVM Outcomes\n",
        "\n",
        "In our analysis of the UCI Online Retail II dataset, we implemented two distinct classifiers: K-Nearest Neighbors (KNN) and Support Vector Machines (SVM). Below is a summary comparing their outcomes.\n",
        "\n",
        "---\n",
        "\n",
        "## 1. Test Accuracy Comparison\n",
        "\n",
        "- **KNN Test Accuracy: 0.9998**  \n",
        "  - This indicates that the KNN model correctly classified 99.98% of the test invoices.\n",
        "  - Almost every non-canceled invoice and canceled invoice was correctly identified.\n",
        "  \n",
        "- **SVM Test Accuracy: 0.9953**  \n",
        "  - The SVM model correctly classified 99.53% of the test invoices.\n",
        "  - Although extremely high, SVM misclassified a few more instances compared to KNN.\n",
        "\n",
        "### Interpretation\n",
        "- **Marginal Difference:**  \n",
        "  The difference between 0.9998 and 0.9953 is minimal, suggesting that both models perform exceptionally well on this dataset.\n",
        "- **Local vs. Global Decision Boundaries:**  \n",
        "  - KNN, being a non-parametric method, classifies based on the local neighborhood in feature space, which seems to work extremely well given the extracted features.\n",
        "  - SVM finds a global decision boundary. The slightly lower accuracy might be due to a few borderline cases where the hyperplane was not optimal.\n",
        "  \n",
        "From a business perspective, both models deliver near-perfect performance. However, the marginally higher accuracy of the KNN model might make it the slightly preferred choice if even a few misclassifications (like a canceled order being missed) carry significant cost."
      ],
      "metadata": {
        "id": "A7I77bHIC5pD"
      }
    },
    {
      "cell_type": "code",
      "source": [
        "# ---------------------------------------------------\n",
        "# 5. Comparison of KNN and SVM\n",
        "# ---------------------------------------------------\n",
        "\n",
        "knn_test_accuracy = grid_knn.score(X_test_knn_scaled, y_test)\n",
        "svm_test_accuracy = grid_svm.score(X_test_svm_scaled, y_test)\n",
        "print(\"\\n--- Model Comparison ---\")\n",
        "print(\"KNN Test Accuracy: {:.4f}\".format(knn_test_accuracy))\n",
        "print(\"SVM Test Accuracy: {:.4f}\".format(svm_test_accuracy))\n",
        "\n",
        "# Plot confusion matrices side-by-side for visual comparison.\n",
        "fig, axes = plt.subplots(1, 2, figsize=(12, 5))\n",
        "sns.heatmap(cm_knn, annot=True, fmt='d', ax=axes[0], cmap='Blues')\n",
        "axes[0].set_title('KNN Confusion Matrix')\n",
        "axes[0].set_xlabel('Predicted Label')\n",
        "axes[0].set_ylabel('True Label')\n",
        "\n",
        "sns.heatmap(cm_svm, annot=True, fmt='d', ax=axes[1], cmap='Greens')\n",
        "axes[1].set_title('SVM Confusion Matrix')\n",
        "axes[1].set_xlabel('Predicted Label')\n",
        "axes[1].set_ylabel('True Label')\n",
        "\n",
        "plt.tight_layout()\n",
        "plt.show()"
      ],
      "metadata": {
        "colab": {
          "base_uri": "https://localhost:8080/",
          "height": 551
        },
        "id": "K1htutnpUXBv",
        "outputId": "f20949d4-c748-4c8d-df19-6060aaeaadce"
      },
      "execution_count": null,
      "outputs": [
        {
          "output_type": "stream",
          "name": "stdout",
          "text": [
            "\n",
            "--- Model Comparison ---\n",
            "KNN Test Accuracy: 0.9998\n",
            "SVM Test Accuracy: 0.9953\n"
          ]
        },
        {
          "output_type": "display_data",
          "data": {
            "text/plain": [
              "<Figure size 1200x500 with 4 Axes>"
            ],
            "image/png": "[encoded data removed]"
          },
          "metadata": {}
        }
      ]
    },
    {
      "cell_type": "markdown",
      "source": [
        "---\n",
        "\n",
        "## 2. ROC Curve Comparison\n",
        "\n",
        "- **ROC Curve Overview:**  \n",
        "  The ROC (Receiver Operating Characteristic) curve plots the true positive rate (sensitivity) against the false positive rate (1 – specificity) for various threshold values. The Area Under the Curve (AUC) quantifies the overall ability of the model to discriminate between the classes.\n",
        "\n",
        "- **Both Models Have an ROC AUC of 1.0:**  \n",
        "  - **Perfect Discrimination:** An AUC of 1.0 implies that both models perfectly rank canceled invoices higher than non-canceled ones across all thresholds.\n",
        "  - **No Overlap:** There is complete separation in the score distributions for the two classes, meaning every canceled invoice is given a higher probability or decision score than any non-canceled invoice.\n",
        "\n",
        "### Implications for the Business\n",
        "- **Reliability:**  \n",
        "  A perfect ROC curve indicates that if the business were to use these models with a threshold optimized for maximum sensitivity and specificity, both models would perfectly differentiate canceled from non-canceled orders.\n",
        "  \n",
        "- **Operational Confidence:**  \n",
        "  Even though the test accuracy of SVM is slightly lower, the perfect ROC curve means that, with proper threshold adjustment, the SVM can be tuned to eliminate false positives and negatives. This reinforces the reliability of both models in a real-world setting.\n",
        "\n",
        "- **Robust Decision Support:**  \n",
        "  Given the ROC results, the business can be confident that:\n",
        "  - **Canceled Orders:** All problematic orders are detected, ensuring that customer service and operations can intervene appropriately.\n",
        "  - **Valid Orders:** No valid orders are mistakenly flagged, avoiding unnecessary resource allocation for investigations.\n",
        "\n",
        "---"
      ],
      "metadata": {
        "id": "L2eB9b18DJxu"
      }
    },
    {
      "cell_type": "code",
      "source": [
        "# ---------------------------------------------------\n",
        "# 6. ROC Curve Comparison\n",
        "# ---------------------------------------------------\n",
        "# For KNN, use predicted probabilities (take the probability for class \"1\").\n",
        "y_proba_knn = grid_knn.predict_proba(X_test_knn_scaled)[:, 1]\n",
        "fpr_knn, tpr_knn, _ = roc_curve(y_test, y_proba_knn)\n",
        "roc_auc_knn = auc(fpr_knn, tpr_knn)\n",
        "\n",
        "# For SVM, use the decision_function scores.\n",
        "y_scores_svm = grid_svm.decision_function(X_test_svm_scaled)\n",
        "fpr_svm, tpr_svm, _ = roc_curve(y_test, y_scores_svm)\n",
        "roc_auc_svm = auc(fpr_svm, tpr_svm)\n",
        "\n",
        "# Plot the ROC curves.\n",
        "plt.figure(figsize=(8, 6))\n",
        "plt.plot(fpr_knn, tpr_knn, color='darkorange', lw=2,\n",
        "         label='KNN ROC curve (area = %0.2f)' % roc_auc_knn)\n",
        "plt.plot(fpr_svm, tpr_svm, color='blue', lw=2,\n",
        "         label='SVM ROC curve (area = %0.2f)' % roc_auc_svm)\n",
        "plt.plot([0, 1], [0, 1], color='navy', lw=2, linestyle='--')\n",
        "plt.xlim([0.0, 1.0])\n",
        "plt.ylim([0.0, 1.05])\n",
        "plt.xlabel('False Positive Rate')\n",
        "plt.ylabel('True Positive Rate')\n",
        "plt.title('ROC Curve Comparison')\n",
        "plt.legend(loc=\"lower right\")\n",
        "plt.show()"
      ],
      "metadata": {
        "colab": {
          "base_uri": "https://localhost:8080/",
          "height": 564
        },
        "id": "gh7nxklC4pdk",
        "outputId": "fd9f9c6f-0e1e-4421-dc5c-e6a4817930b4"
      },
      "execution_count": null,
      "outputs": [
        {
          "output_type": "display_data",
          "data": {
            "text/plain": [
              "<Figure size 800x600 with 1 Axes>"
            ],
            "image/png": "[encoded data removed]"
          },
          "metadata": {}
        }
      ]
    },
    {
      "cell_type": "markdown",
      "source": [
        "## 3. Outcome Comparison Summary\n",
        "\n",
        "- **KNN:**\n",
        "  - **Pros:**  \n",
        "    - Simplicity and ease of interpretation.\n",
        "    - Its performance is relatively intuitive as it depends on the proximity of similar instances.\n",
        "  - **Cons:**  \n",
        "    - Sensitive to the choice of *k* and to the scaling of features.\n",
        "    - May struggle with high-dimensional data.\n",
        "  \n",
        "- **SVM:**\n",
        "  - **Pros:**  \n",
        "    - With the RBF kernel and proper hyperparameter tuning, SVM can capture complex decision boundaries.\n",
        "    - Often provides better generalization when classes are not linearly separable.\n",
        "  - **Cons:**  \n",
        "    - Requires careful tuning of hyperparameters (`C` and `gamma`).\n",
        "    - More computationally intensive, especially with large datasets.\n",
        "\n",
        "---\n",
        "## 4. Business Insights and Next Steps\n",
        "\n",
        "### Insights from the Metrics\n",
        "- **KNN’s Slight Edge:**  \n",
        "  The marginally higher test accuracy of KNN means that, in practice, it may slightly outperform SVM in correctly flagging canceled invoices. This is crucial in an environment where missing even one cancellation (false negative) could result in significant operational or financial impacts.\n",
        "  \n",
        "- **Perfect ROC for Both Models:**  \n",
        "  Both models exhibit perfect discrimination ability according to the ROC curve. This means that both have the potential to achieve flawless performance if the decision threshold is set appropriately. In practical terms, the business can adjust the sensitivity of the model to match operational needs.\n",
        "\n",
        "### How the Business Can Leverage the Model\n",
        "- **Real-Time Monitoring:**  \n",
        "  Deploy the model (whether KNN or SVM) to automatically monitor and flag invoices that are predicted to be canceled. This proactive system allows for immediate review and intervention.\n",
        "  \n",
        "- **Resource Optimization:**  \n",
        "  With high confidence in the predictions, the business can direct customer service and operational resources to focus only on those orders that are flagged, minimizing wasteful investigations.\n",
        "  \n",
        "- **Feedback Loop for Continuous Improvement:**  \n",
        "  Integrate model outputs into a feedback system. Actual outcomes can be recorded and used to periodically retrain the models, ensuring that performance remains optimal as market conditions or operational practices evolve.\n",
        "  \n",
        "- **Decision Threshold Tuning:**  \n",
        "  Although both models have a perfect ROC, the slight difference in test accuracy means that the business might prefer KNN for a marginally better performance. However, the decision threshold for either model can be tuned based on whether the business prioritizes minimizing false negatives (ensuring no canceled order is missed) or false positives (avoiding unnecessary investigations).\n",
        "\n",
        "---\n",
        "\n",
        "## Conclusion\n",
        "\n",
        "Both KNN and SVM models show outstanding performance in classifying canceled versus non-canceled invoices, with KNN achieving a test accuracy of 0.9998 and SVM 0.9953. The perfect ROC AUC of 1.0 for both models indicates that, at the optimal threshold, they can perfectly separate the two classes. For the business, this means reliable, data-driven detection of canceled orders, leading to efficient resource allocation and enhanced operational responsiveness. The slight edge of KNN in test accuracy, combined with the perfect ROC performance, positions it as an excellent candidate for deployment in real-time invoice monitoring systems."
      ],
      "metadata": {
        "id": "ns8zV7dKDAfi"
      }
    }
  ]
}